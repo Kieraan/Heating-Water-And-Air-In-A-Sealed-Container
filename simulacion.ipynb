{
 "cells": [
  {
   "cell_type": "code",
   "execution_count": 13,
   "metadata": {},
   "outputs": [],
   "source": [
    "import numpy as np\n",
    "import matplotlib.pyplot as plt\n",
    "import ipywidgets as widgets\n",
    "from ipywidgets import interact\n",
    "import phasepy as pp\n",
    "import CoolProp.CoolProp as CP\n",
    "import pandas as pd"
   ]
  },
  {
   "cell_type": "code",
   "execution_count": 14,
   "metadata": {},
   "outputs": [
    {
     "data": {
      "application/vnd.jupyter.widget-view+json": {
       "model_id": "fe5736a2e00b421ab5114cc1f50a8214",
       "version_major": 2,
       "version_minor": 0
      },
      "text/plain": [
       "interactive(children=(ToggleButtons(description='Process:', options=(('Compression', 1),), value=1), Dropdown(…"
      ]
     },
     "metadata": {},
     "output_type": "display_data"
    },
    {
     "data": {
      "text/plain": [
       "<function __main__.plot_expansion_compression(bn, pick1, pick2, go, Pf)>"
      ]
     },
     "execution_count": 14,
     "metadata": {},
     "output_type": "execute_result"
    }
   ],
   "source": [
    "# Definición de funciones\n",
    "def choose(c1, c2, c3, c4, pick):\n",
    "    return [c1, c2, c3, c4][pick - 1]\n",
    "\n",
    "def adiW(t, T1, Cv):\n",
    "    return Cv * (t - T1) / 1000\n",
    "\n",
    "def plot_expansion_compression(bn, pick1, pick2, go, Pf):\n",
    "    # Crear objeto nitrógeno, datos obtenidos del Perry's Handbook\n",
    "    nitrogen = pp.component(name = 'nitrogen', Tc = 162.2, Pc = 3.39e2, Zc = 0.288, Vc = 89, w = 0.037)\n",
    "    \n",
    "    # Modelado de compuestos con Peng-Robinson\n",
    "    eos_nitrogeno = pp.preos(nitrogen)\n",
    "    \n",
    "    # Cálculo\n",
    "    P1 = 0.1 * 10**6 if bn == 1 else 1 * 10**6\n",
    "    P2 = Pf * 10**6\n",
    "\n",
    "    R = 8.314\n",
    "    T1 = 300\n",
    "    V1 = 1 / eos_nitrogeno.density(T1, P1*1e-5, state='V') / 1000\n",
    "\n",
    "    # Isotérmico\n",
    "    isoV2 = 1 / eos_nitrogeno.density(T1, P2*1e-5, state='V') / 1000\n",
    "    isoWR = -R * T1 * np.log(isoV2 / V1) / 1000\n",
    "    isoWX = -P2 * (isoV2 - V1) / 1000 / 1000\n",
    "\n",
    "    # Adiabático \n",
    "    Cp = CP.PropsSI('CPMOLAR', 'T', T1, 'P', P1, 'Nitrogen') \n",
    "    Cv = CP.PropsSI('CVMOLAR', 'T', T1, 'P', P1, 'Nitrogen') \n",
    "    gamma = Cp / Cv \n",
    "\n",
    "    \"\"\" Se podría utilizar un promedio entre Cp y Cv, pero esto complica mucho los cálculos y no es necesario pues Cp y Cv varían muy poco con T \"\"\"\n",
    "    \n",
    "    adiV2R = V1 * (P1 / P2)**(1 / gamma)\n",
    "    adiV2X = 1000 * (R * (Cv * T1 + P2 * V1 / 1000)) / (P2 * (Cv + R))\n",
    "    T2R = T1 * (V1 / adiV2R)**(gamma - 1)\n",
    "    T2X = T1 - P2 * (adiV2X - V1) / 1000 / Cv\n",
    "\n",
    "    v1 = V1 + (choose(isoV2, adiV2R, isoV2, adiV2X, pick1) - V1) * go\n",
    "    v2 = V1 + (choose(isoV2, adiV2R, isoV2, adiV2X, pick2) - V1) * go\n",
    "\n",
    "   # Presiones intermedias\n",
    "    Pint = (P1 + (P2 - P1) * go) / 10**6\n",
    "    Pext1 = Pint if pick1 in [1, 2] else P2 / 10**6\n",
    "    Pext2 = Pint if pick2 in [1, 2] else P2 / 10**6\n",
    "\n",
    "    # Cálculos de trabajo\n",
    "    W1 = choose(isoWR, adiW(T2R, T1, Cv), isoWX, adiW(T2X, T1, Cv), pick1) * go\n",
    "    T1_final = T1 + (choose(T1, T2R, T1, T2X, pick1) - T1) * go\n",
    "\n",
    "    W2 = choose(isoWR, adiW(T2R, T1, Cv), isoWX, adiW(T2X, T1, Cv), pick2) * go\n",
    "    T2_final = T1 + (choose(T1, T2R, T1, T2X, pick2) - T1) * go\n",
    "\n",
    "    # Datos para la tabla\n",
    "    data = {\n",
    "        'Condición': ['Condición 1', 'Condición 2'],\n",
    "        'Proceso': [choose('Reversible Isotérmico', 'Reversible Adiabático', 'Irreversible Isotérmico', 'Irreversible Adiabático', pick1),\n",
    "                    choose('Reversible Isotérmico', 'Reversible Adiabático', 'Irreversible Isotérmico', 'Irreversible Adiabático', pick2)],\n",
    "        'Trabajo (kJ/mol)': [W1, W2],\n",
    "        'Temperatura (K)': [T1_final, T2_final],\n",
    "        'Volumen (L)': [v1, v2],\n",
    "        'Presión (MPa)': [Pext1, Pext2]\n",
    "    }\n",
    "\n",
    "    df = pd.DataFrame(data)\n",
    "\n",
    "    # Graficación\n",
    "    fig, ax = plt.subplots()\n",
    "    delta_x, delta_w, delta_h, th, height = 10, 2, 1, 0.5, 1\n",
    "\n",
    "    # Rectángulos que representan los volúmenes\n",
    "    rect1 = plt.Rectangle((0, 0), delta_x, v1, edgecolor='black', facecolor='green', alpha=0.7)\n",
    "    rect2 = plt.Rectangle((delta_x + delta_w, 0), delta_x, v2, edgecolor='black', facecolor='green', alpha=0.7)\n",
    "    rect3 = plt.Rectangle((0, v1), delta_x, 1.5, edgecolor='black', facecolor='gray')\n",
    "    rect4 = plt.Rectangle((delta_x + delta_w, v2), delta_x, 1.5, edgecolor='black', facecolor='gray')\n",
    "\n",
    "\n",
    "    ax.add_patch(rect1)\n",
    "    ax.add_patch(rect2)\n",
    "    ax.add_patch(rect3)\n",
    "    ax.add_patch(rect4)\n",
    "\n",
    "    # Configuración de los límites del gráfico\n",
    "    plt.xlim(-1, 2 * delta_x + delta_w + 1)\n",
    "    plt.ylim(-1, max(v1, v2) + 2.5)\n",
    "\n",
    "    # Etiquetas de texto para presiones\n",
    "    ax.text(delta_x / 2, 0.5 * v1, f\"P = {Pint:.2f} MPa\", fontsize=12, ha='center')\n",
    "    ax.text(1.5 * delta_x + delta_w, 0.5 * v2, f\"P = {Pint:.2f} MPa\", fontsize=12, ha='center')\n",
    "    ax.text(delta_x / 2, v1 + 1, f\"Pext = {Pext1:.2f} MPa\", fontsize=12, ha='center')\n",
    "    ax.text(1.5 * delta_x + delta_w, v2 + 1, f\"Pext = {Pext2:.2f} MPa\", fontsize=12, ha='center')\n",
    "\n",
    "    # Títulos y etiquetas del gráfico\n",
    "    plt.title(\"Reversible and Irreversible Expansion or Compression Work\")\n",
    "    plt.grid(False)\n",
    "    plt.axis('off')\n",
    "    plt.show()\n",
    "\n",
    "    # Mostrar la tabla\n",
    "    display(df)\n",
    "\n",
    "# Widgets interactivos para la selección de parámetros\n",
    "interact(plot_expansion_compression,\n",
    "         bn=widgets.ToggleButtons(options=[('Compression', 1)], description='Process:'),\n",
    "         pick1=widgets.Dropdown(options=[('Reversible Isothermal', 1), ('Reversible Adiabatic', 2), ('Irreversible Isothermal', 3), ('Irreversible Adiabatic', 4)], description='Condition 1:'),\n",
    "         pick2=widgets.Dropdown(options=[('Reversible Isothermal', 1), ('Reversible Adiabatic', 2), ('Irreversible Isothermal', 3), ('Irreversible Adiabatic', 4)], description='Condition 2:'),\n",
    "         go=widgets.FloatSlider(value=0, min=0, max=1, step=0.01, description='Progress:'),\n",
    "         Pf=widgets.FloatSlider(value=1.5, min=0.1, max=2.0, step=0.1, description='Final Pressure (MPa):'))"
   ]
  }
 ],
 "metadata": {
  "kernelspec": {
   "display_name": "Python 3",
   "language": "python",
   "name": "python3"
  },
  "language_info": {
   "codemirror_mode": {
    "name": "ipython",
    "version": 3
   },
   "file_extension": ".py",
   "mimetype": "text/x-python",
   "name": "python",
   "nbconvert_exporter": "python",
   "pygments_lexer": "ipython3",
   "version": "3.11.9"
  }
 },
 "nbformat": 4,
 "nbformat_minor": 2
}
