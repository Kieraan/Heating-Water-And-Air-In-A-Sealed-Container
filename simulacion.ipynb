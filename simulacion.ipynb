{
 "cells": [
  {
   "cell_type": "code",
   "execution_count": 25,
   "metadata": {},
   "outputs": [],
   "source": [
    "import numpy as np\n",
    "import matplotlib.pyplot as plt\n",
    "import ipywidgets as widgets\n",
    "from ipywidgets import interact\n",
    "import phasepy as pp\n",
    "import CoolProp.CoolProp as CP"
   ]
  },
  {
   "cell_type": "code",
   "execution_count": 26,
   "metadata": {},
   "outputs": [
    {
     "data": {
      "application/vnd.jupyter.widget-view+json": {
       "model_id": "8523f039939748b3af5786269e492098",
       "version_major": 2,
       "version_minor": 0
      },
      "text/plain": [
       "interactive(children=(ToggleButtons(description='Process:', options=(('Compression', 1),), value=1), Dropdown(…"
      ]
     },
     "metadata": {},
     "output_type": "display_data"
    },
    {
     "data": {
      "text/plain": [
       "<function __main__.plot_expansion_compression(bn, pick1, pick2, go, Pf)>"
      ]
     },
     "execution_count": 26,
     "metadata": {},
     "output_type": "execute_result"
    }
   ],
   "source": [
    "# Definición de funciones\n",
    "def choose(c1, c2, c3, c4, pick):\n",
    "    return [c1, c2, c3, c4][pick - 1]\n",
    "\n",
    "def adiW(t, T1, Cv):\n",
    "    return Cv * (t - T1) / 1000\n",
    "\n",
    "def plot_expansion_compression(bn, pick1, pick2, go, Pf):\n",
    "    # Crear objeto nitrógeno, datos obtenidos del Perry's Handbook\n",
    "    nitrogen = pp.component(name = 'nitrogen', Tc = 162.2, Pc = 3.39e2, Zc = 0.288, Vc = 89, w = 0.037)\n",
    "    \n",
    "    # Modelado de compuestos con Peng-Robinson\n",
    "    eos_nitrogeno = pp.preos(nitrogen)\n",
    "    \n",
    "    # Cálculo\n",
    "    P1 = 0.1 * 10**6 if bn == 1 else 1 * 10**6\n",
    "    P2 = Pf * 10**6\n",
    "\n",
    "    R = 8.314\n",
    "    T1 = 300\n",
    "    V1 = 1 / eos_nitrogeno.density(T1, P1*1e-5, state='V') / 1000\n",
    "\n",
    "    # Isotérmico\n",
    "    isoV2 = 1 / eos_nitrogeno.density(T1, P2*1e-5, state='V') / 1000\n",
    "    isoWR = -R * T1 * np.log(isoV2 / V1) / 1000\n",
    "    isoWX = -P2 * (isoV2 - V1) / 1000 / 1000\n",
    "\n",
    "    # Adiabático \n",
    "    Cp = CP.PropsSI('CPMOLAR', 'T', T1, 'P', P1, 'Nitrogen') \n",
    "    Cv = CP.PropsSI('CVMOLAR', 'T', T1, 'P', P1, 'Nitrogen') \n",
    "    gamma = Cp / Cv \n",
    "\n",
    "    \"\"\" Se podría utilizar un promedio entre Cp y Cv, pero esto complica mucho los cálculos y no es necesario pues Cp y Cv varían muy poco con T \"\"\"\n",
    "    \n",
    "    adiV2R = V1 * (P1 / P2)**(1 / gamma)\n",
    "    adiV2X = 1000 * (R * (Cv * T1 + P2 * V1 / 1000)) / (P2 * (Cv + R))\n",
    "    T2R = T1 * (V1 / adiV2R)**(gamma - 1)\n",
    "    T2X = T1 - P2 * (adiV2X - V1) / 1000 / Cv\n",
    "\n",
    "    v1 = V1 + (choose(isoV2, adiV2R, isoV2, adiV2X, pick1) - V1) * go\n",
    "    v2 = V1 + (choose(isoV2, adiV2R, isoV2, adiV2X, pick2) - V1) * go\n",
    "\n",
    "    Pint = (P1 + (P2 - P1) * go) / 10**6\n",
    "    Pext1 = Pint if pick1 in [1, 2] else P2 / 10**6\n",
    "    Pext2 = Pint if pick2 in [1, 2] else P2 / 10**6\n",
    "    Pf = P2 / 10**6\n",
    "\n",
    "    wb1 = go if bn == 1 else (0.9 - (1 - Pf) * go if pick1 in [1, 2] else Pf / 1.1)\n",
    "    wt1 = (go * (Pf - 1.1) / (2 - 1.1) if bn == 1 else (1 - go if pick1 in [1, 2] else 0))\n",
    "\n",
    "    wb2 = go if bn == 1 else (0.9 - (1 - Pf) * go if pick2 in [1, 2] else Pf / 1.1)\n",
    "    wt2 = (go * (Pf - 1.1) / (2 - 1.1) if bn == 1 else (1 - go if pick2 in [1, 2] else 0))\n",
    "\n",
    "    # Graficación\n",
    "    fig, ax = plt.subplots()\n",
    "    delta_x, delta_w, delta_h, th, height = 10, 2, 1, 0.5, 1\n",
    "\n",
    "    rect1 = plt.Rectangle((0, 0), delta_x, v1, color='green', alpha=0.7)\n",
    "    rect2 = plt.Rectangle((delta_x + delta_w, 0), delta_x, v2, color='green', alpha=0.7)\n",
    "    rect3 = plt.Rectangle((0, v1), delta_x, 1.5, edgecolor='gray', facecolor='gray', linewidth=3)\n",
    "    rect4 = plt.Rectangle((delta_x + delta_w, v2), delta_x, 1.5, edgecolor='gray', facecolor='gray', linewidth=3)\n",
    "\n",
    "    ax.add_patch(rect1)\n",
    "    ax.add_patch(rect2)\n",
    "    ax.add_patch(rect3)\n",
    "    ax.add_patch(rect4)\n",
    "\n",
    "    plt.xlim(-1, 2 * delta_x + delta_w + 1)\n",
    "    plt.ylim(-1, max(v1, v2) + 2.5)\n",
    "\n",
    "    ax.text(delta_x / 2, 0.5 * v1, f\"P = {Pint:.2f} MPa\", fontsize=12, ha='center')\n",
    "    ax.text(1.5 * delta_x + delta_w, 0.5 * v2, f\"P = {Pint:.2f} MPa\", fontsize=12, ha='center')\n",
    "\n",
    "    ax.text(delta_x / 2, v1 + 1, f\"Pext = {Pext1:.2f} MPa\", fontsize=12, ha='center')\n",
    "    ax.text(1.5 * delta_x + delta_w, v2 + 1, f\"Pext = {Pext2:.2f} MPa\", fontsize=12, ha='center')\n",
    "\n",
    "    plt.title(\"Reversible and Irreversible Expansion or Compression Work\")\n",
    "    plt.xlabel(\"Volume\")\n",
    "    plt.ylabel(\"Pressure\")\n",
    "    plt.grid(False)\n",
    "    plt.show()\n",
    "\n",
    "# Widgets interactivos\n",
    "interact(plot_expansion_compression,\n",
    "         bn=widgets.ToggleButtons(options=[('Compression', 1)], description='Process:'),\n",
    "         pick1=widgets.Dropdown(options=[('Reversible Isothermal', 1), ('Reversible Adiabatic', 2), ('Irreversible Isothermal', 3), ('Irreversible Adiabatic', 4)], description='Condition 1:'),\n",
    "         pick2=widgets.Dropdown(options=[('Reversible Isothermal', 1), ('Reversible Adiabatic', 2), ('Irreversible Isothermal', 3), ('Irreversible Adiabatic', 4)], description='Condition 2:'),\n",
    "         go=widgets.FloatSlider(value=0, min=0, max=1, step=0.01, description='Progress:'),\n",
    "         Pf=widgets.FloatSlider(value=1.5, min=0.1, max=2.0, step=0.1, description='Final Pressure (MPa):'))\n"
   ]
  }
 ],
 "metadata": {
  "kernelspec": {
   "display_name": "Python 3",
   "language": "python",
   "name": "python3"
  },
  "language_info": {
   "codemirror_mode": {
    "name": "ipython",
    "version": 3
   },
   "file_extension": ".py",
   "mimetype": "text/x-python",
   "name": "python",
   "nbconvert_exporter": "python",
   "pygments_lexer": "ipython3",
   "version": "3.11.9"
  }
 },
 "nbformat": 4,
 "nbformat_minor": 2
}
